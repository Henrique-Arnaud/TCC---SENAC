{
  "cells": [
    {
      "cell_type": "code",
      "execution_count": 2,
      "metadata": {
        "id": "B47ew-8-g-Ar"
      },
      "outputs": [],
      "source": [
        "#Importação\n",
        "import os\n",
        "import cv2\n",
        "import numpy as np\n",
        "import pickle\n",
        "from sklearn.model_selection import train_test_split\n",
        "from sklearn.svm import SVC\n",
        "from sklearn.metrics import confusion_matrix"
      ]
    },
    {
      "cell_type": "code",
      "execution_count": 2,
      "metadata": {
        "colab": {
          "base_uri": "https://localhost:8080/"
        },
        "id": "B1fFNYJ0idrQ",
        "outputId": "43ae8f0e-78b3-4de2-fabe-4b03cf346075"
      },
      "outputs": [
        {
          "name": "stdout",
          "output_type": "stream",
          "text": [
            "4207\n",
            "4207\n",
            "6983\n",
            "6983\n"
          ]
        }
      ],
      "source": [
        "Categories=['aberto','fechado']\n",
        "qtd= 0\n",
        "data = []\n",
        "\n",
        "#Confere quantidade de imagens do banco\n",
        "for i in Categories:\n",
        "      path=os.path.join('baseOficial/cinza/50x50/treino/'+i)\n",
        "      label=Categories.index(i)\n",
        "      for img in os.listdir(path):\n",
        "        if((qtd % 1 == 0 and i == 'aberto') or (i == 'fechado' and qtd % 1 == 0)):\n",
        "          imgPath = os.path.join(path, img)\n",
        "          eyeImg = cv2.imread(imgPath, 0)\n",
        "          try:\n",
        "            image = np.array(eyeImg).flatten()\n",
        "            data.append([image,label])\n",
        "          except Exception as e:\n",
        "            pass\n",
        "        qtd+=1\n"
      ]
    },
    {
      "cell_type": "code",
      "execution_count": 22,
      "metadata": {},
      "outputs": [],
      "source": [
        "pick_in = open('data1.pickle', 'wb')\n",
        "pickle.dump(data, pick_in)\n",
        "pick_in.close()"
      ]
    },
    {
      "cell_type": "code",
      "execution_count": 23,
      "metadata": {},
      "outputs": [],
      "source": [
        "pick_in = open('data1.pickle', 'rb')\n",
        "pickle.load(pick_in)\n",
        "pick_in.close()"
      ]
    },
    {
      "cell_type": "code",
      "execution_count": 24,
      "metadata": {},
      "outputs": [
        {
          "name": "stdout",
          "output_type": "stream",
          "text": [
            "1303\n",
            "1303\n"
          ]
        }
      ],
      "source": [
        "#Etapa de Criação e Treinamento do Modelo de IA\n",
        "imgTrain = []\n",
        "classTrain = []\n",
        "qtd=0\n",
        "for i in Categories:\n",
        "      path=os.path.join('baseOficial/cinza/50x50/treino/'+i)\n",
        "      label=Categories.index(i)\n",
        "      for img in os.listdir(path):\n",
        "        if((qtd % 1 == 0 and i == 'aberto') or (i == 'fechado' and qtd % 1 == 0)):\n",
        "          imgPath = os.path.join(path, img)\n",
        "          eyeImg = cv2.imread(imgPath, 0)\n",
        "          try:\n",
        "            image = np.array(eyeImg).flatten()\n",
        "            imgTrain.append(image)\n",
        "            classTrain.append(label)\n",
        "          except Exception as e:\n",
        "            pass\n",
        "        qtd+=1\n",
        "xtrain, xtest, ytrain, ytest = train_test_split(imgTrain, classTrain,test_size=None)\n",
        "model = SVC(C=1, kernel='poly', gamma='auto')\n",
        "model.fit(xtrain, ytrain)\n",
        "#pick = open('modelos/model4.sav', 'wb')\n",
        "pickle.dump(model, pick)\n",
        "pick.close()\n"
      ]
    },
    {
      "cell_type": "markdown",
      "metadata": {},
      "source": [
        "# Teste\n",
        "\n",
        "---"
      ]
    },
    {
      "cell_type": "code",
      "execution_count": 11,
      "metadata": {},
      "outputs": [
        {
          "name": "stdout",
          "output_type": "stream",
          "text": [
            "3800\n",
            "0\n",
            "3800\n",
            "3800\n",
            "3800\n",
            "3800\n",
            "7600\n",
            "7600\n",
            "Predições: \n",
            "[1 1 1 ... 1 1 1]\n",
            "\n",
            "Matriz\n",
            "[[1592 2208]\n",
            " [   5 3795]]\n"
          ]
        }
      ],
      "source": [
        "#Etapa de Testes do Modelo de IA\n",
        "pick = open('modelos/model4.sav', 'rb')\n",
        "model = pickle.load(pick)\n",
        "pick.close()\n",
        "\n",
        "imgTest = []\n",
        "classTest = []\n",
        "qtd = 0\n",
        "qtdAb = 0\n",
        "qtdFec = 0\n",
        "Categories = ['aberto', 'fechado']\n",
        "for i in Categories:\n",
        "      path=os.path.join('baseOficial/cinza/50x50/teste/'+i)\n",
        "      label=Categories.index(i)\n",
        "      for img in os.listdir(path):\n",
        "        if((qtd % 3 == 0 and i == 'aberto' and qtdAb < 3800) or (i == 'fechado' and qtd % 1 == 0 and qtdFec < 3800)):\n",
        "          imgPath = os.path.join(path, img)\n",
        "          eyeImg = cv2.imread(imgPath, 0)\n",
        "          try:\n",
        "            imgTest.append(eyeImg.flatten())\n",
        "            classTest.append(label)\n",
        "            if(i == 'aberto'):\n",
        "              qtdAb += 1\n",
        "            else:\n",
        "              qtdFec += 1\n",
        "          except Exception as e:\n",
        "            pass\n",
        "        qtd+=1\n",
        "\n",
        "prediction = []\n",
        "\n",
        "prediction = model.predict(imgTest)\n",
        "\n",
        "print('Matriz')\n",
        "print(confusion_matrix(classTest,prediction))"
      ]
    }
  ],
  "metadata": {
    "colab": {
      "provenance": []
    },
    "kernelspec": {
      "display_name": "Python 3",
      "name": "python3"
    },
    "language_info": {
      "codemirror_mode": {
        "name": "ipython",
        "version": 3
      },
      "file_extension": ".py",
      "mimetype": "text/x-python",
      "name": "python",
      "nbconvert_exporter": "python",
      "pygments_lexer": "ipython3",
      "version": "3.10.6"
    }
  },
  "nbformat": 4,
  "nbformat_minor": 0
}
